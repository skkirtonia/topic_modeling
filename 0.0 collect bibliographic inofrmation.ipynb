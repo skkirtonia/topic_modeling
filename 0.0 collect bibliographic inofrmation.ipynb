{
 "cells": [
  {
   "cell_type": "code",
   "execution_count": null,
   "id": "initial_id",
   "metadata": {
    "collapsed": true
   },
   "outputs": [],
   "source": []
  },
  {
   "cell_type": "markdown",
   "source": [
    "# Collect bibliographic information"
   ],
   "metadata": {
    "collapsed": false
   },
   "id": "d31ce84a2caf6a26"
  },
  {
   "cell_type": "code",
   "outputs": [],
   "source": [],
   "metadata": {
    "collapsed": false
   },
   "id": "5610cfb7efe4824b"
  },
  {
   "cell_type": "markdown",
   "source": [
    "Step 1: Go to advanced search option on https://trid.trb.org/.\n"
   ],
   "metadata": {
    "collapsed": false
   },
   "id": "bbbf0ab6f9efb4d4"
  },
  {
   "cell_type": "raw",
   "source": [],
   "metadata": {
    "collapsed": false
   },
   "id": "b173c23e5a9bb48e"
  },
  {
   "cell_type": "markdown",
   "source": [
    "Step 2: Select result type = Articles and papers and year between 2008 and 2018.\n"
   ],
   "metadata": {
    "collapsed": false
   },
   "id": "8b7e465b98c43b94"
  },
  {
   "cell_type": "markdown",
   "source": [
    "Step 3: search results are saved as xml format for each year in the folder 'xml_data'"
   ],
   "metadata": {
    "collapsed": false
   },
   "id": "ac6af4fb30bcd307"
  }
 ],
 "metadata": {
  "kernelspec": {
   "display_name": "Python 3",
   "language": "python",
   "name": "python3"
  },
  "language_info": {
   "codemirror_mode": {
    "name": "ipython",
    "version": 2
   },
   "file_extension": ".py",
   "mimetype": "text/x-python",
   "name": "python",
   "nbconvert_exporter": "python",
   "pygments_lexer": "ipython2",
   "version": "2.7.6"
  }
 },
 "nbformat": 4,
 "nbformat_minor": 5
}
