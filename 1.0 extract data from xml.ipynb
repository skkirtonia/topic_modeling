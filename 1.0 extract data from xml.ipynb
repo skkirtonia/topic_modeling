{
 "cells": [
  {
   "cell_type": "markdown",
   "metadata": {},
   "source": []
  },
  {
   "cell_type": "code",
   "outputs": [],
   "source": [
    "# import libraries\n",
    "import xml.etree.ElementTree as et\n",
    "import os\n",
    "import pandas as pd\n",
    "from xml.parsers import expat"
   ],
   "metadata": {
    "collapsed": false,
    "ExecuteTime": {
     "end_time": "2024-01-09T20:39:43.931140200Z",
     "start_time": "2024-01-09T20:39:41.499205500Z"
    }
   },
   "execution_count": 1
  },
  {
   "cell_type": "code",
   "execution_count": 1,
   "metadata": {},
   "outputs": [],
   "source": [
    "# Define column names and folders\n",
    "col_record_id = \"Record ID\"\n",
    "col_title = \"Title\"\n",
    "col_abstract = \"Abstract\"\n",
    "col_publication_year= \"Publication Year\"\n",
    "col_num_author = \"Number of Authors\"\n",
    "col_geographic_term = \"Geographic Term\"\n",
    "col_index_term = \"Index Term\"\n",
    "col_publisher= \"Publisher\"\n",
    "col_published_on = \"Published On\"\n",
    "col_conference = \"Conference\"\n",
    "col_conference_location = \"Conference Location\"\n",
    "col_volume = \"Volume\"\n",
    "col_issue = \"Issue\"\n",
    "col_type = \"Type\"\n",
    "col_language = \"Language\"\n",
    "col_issn = \"ISSN\"\n",
    "col_eissn = \"EISSN\"\n",
    "\n",
    "all_papers_folder = 'xml_data/'"
   ]
  },
  {
   "cell_type": "code",
   "execution_count": 4,
   "metadata": {},
   "outputs": [
    {
     "name": "stdout",
     "output_type": "stream",
     "text": [
      "2008.xml\n",
      "200801_06.xml\n",
      "200807_12.xml\n",
      "2009.xml\n",
      "200901_12.xml\n",
      "2010.xml\n",
      "201001_06.xml\n",
      "201007_12.xml\n",
      "2011.xml\n",
      "201101_06.xml\n",
      "201107_12.xml\n",
      "2012.xml\n",
      "201201_06.xml\n",
      "201207_12.xml\n",
      "2013.xml\n",
      "201301_06.xml\n",
      "201307_12.xml\n",
      "2014.xml\n",
      "201401_06.xml\n",
      "201407_12.xml\n",
      "2015.xml\n",
      "201501_06.xml\n",
      "201507_12.xml\n",
      "2016.xml\n",
      "201601_06.xml\n",
      "201607_12.xml\n",
      "2017.xml\n",
      "201701_06.xml\n",
      "201707_12.xml\n",
      "2018.xml\n",
      "201801_12.xml\n"
     ]
    }
   ],
   "source": [
    "#Read xml files from defined folder and save as pkl format\n",
    "\n",
    "path = all_papers_folder\n",
    "folder = os.fsencode(path)\n",
    "list_dic = []\n",
    "\n",
    "for file in os.listdir(folder):\n",
    "    filename = os.fsdecode(file)\n",
    "    print(filename)\n",
    "    #<?xml version='1.0' encoding='iso-8859-1'?>\n",
    "    parser = et.XMLParser(encoding=\"iso-8859-1\")\n",
    "    tree = et.parse(path+filename, parser = parser)\n",
    "    root = tree.getroot()\n",
    "    \n",
    "    for record in root:\n",
    "        dictionary = {}\n",
    "        if \"id\" in record.attrib:\n",
    "            dictionary[col_record_id] = record.attrib[\"id\"]\n",
    "        #find the title\n",
    "        title = record.find(\"title\")\n",
    "        if title!=None:\n",
    "            dictionary[col_title] = title.text\n",
    "            #print(title.text)\n",
    "        # find language\n",
    "        language = record.find(\"language_1\")\n",
    "        if language != None:\n",
    "            dictionary[col_language] = language.text\n",
    "        \n",
    "        # find abstract\n",
    "        abstract = record.find(\"abstract\")\n",
    "        if abstract!=None:\n",
    "            dictionary[col_abstract] = abstract.text\n",
    "            \n",
    "        # find the Publication Year + publisher + published on\n",
    "        document = record.find(\"document\")\n",
    "        if document!=None:\n",
    "            authors = document.find(\"authors\")\n",
    "            if authors!=None:\n",
    "                dictionary[col_num_author] = len(authors)\n",
    "\n",
    "            monograph = document.find(\"monograph\")\n",
    "            if monograph!= None:\n",
    "                \n",
    "                volume = monograph.find(\"volume\")\n",
    "                if volume!=None:\n",
    "                    dictionary[col_volume] = volume.text\n",
    "                \n",
    "                issue = monograph.find(\"issue\")\n",
    "                if issue!= None:\n",
    "                    dictionary[col_issue] = issue.text\n",
    "                \n",
    "                publication_date = monograph.find(\"publication_date\")\n",
    "                if publication_date!= None:\n",
    "                    dictionary[col_publication_year] =  int(publication_date.text)\n",
    "                    #print(publication_date.text)\n",
    "\n",
    "                serial = monograph.find(\"serial\")\n",
    "                if serial!=None:\n",
    "                    #print(serial.attrib)\n",
    "                    if \"publisher\" in serial.attrib:\n",
    "                        publisher = serial.attrib[\"publisher\"]\n",
    "                    else:\n",
    "                        publisher = \"\"\n",
    "                        \n",
    "                    if \"issn\" in serial.attrib:\n",
    "                        dictionary[col_issn] = serial.attrib[\"issn\"]\n",
    "                    else:\n",
    "                        dictionary[col_issn] = \"\"\n",
    "                    \n",
    "                    if \"eissn\" in serial.attrib:\n",
    "                        dictionary[col_eissn] = serial.attrib[\"eissn\"]\n",
    "                    else:\n",
    "                        dictionary[col_eissn] = \"\"\n",
    "                        \n",
    "                    published_on = serial.text\n",
    "                    dictionary[col_publisher] = publisher\n",
    "                    dictionary[col_published_on] = published_on\n",
    "\n",
    "                conference = monograph.find(\"conference\")\n",
    "                conference_string = None\n",
    "                if conference!=None:\n",
    "                    conference_string = conference.text\n",
    "\n",
    "                    conference_location_string = None\n",
    "                    if \"country\" in conference.attrib:\n",
    "                        conference_location_string = conference.attrib[\"country\"]\n",
    "                    \n",
    "                    dictionary[col_conference_location] = conference_location_string\n",
    "                dictionary[col_conference] = conference_string\n",
    "                    \n",
    "\n",
    "        index_terms = record.find(\"index_terms\")\n",
    "        geo_terms = []\n",
    "        index_term_list = []\n",
    "        if index_terms!= None:\n",
    "            for term in index_terms:\n",
    "                if \"type\" in term.attrib:\n",
    "                    if term.attrib[\"type\"] == \"GT\":\n",
    "                        geo_terms.append(term.text)\n",
    "                    elif term.attrib[\"type\"] == \"IT\":\n",
    "                        index_term_list.append(term.text)\n",
    "            \n",
    "            #print(geo_terms)\n",
    "        dictionary[col_index_term] = index_term_list\n",
    "        dictionary[col_geographic_term] = geo_terms\n",
    "        \n",
    "        subject_areas = record.find(\"subject_areas\")\n",
    "        sub_area_list = []\n",
    "        if subject_areas != None:\n",
    "            for area in subject_areas:\n",
    "                sub_area_list.append(area.text)\n",
    "                \n",
    "        dictionary[\"Subject Area\"] = sub_area_list\n",
    "        list_dic.append(dictionary)\n",
    "        \n",
    "table = pd.DataFrame(list_dic)"
   ]
  },
  {
   "cell_type": "code",
   "execution_count": 5,
   "metadata": {
    "scrolled": true
   },
   "outputs": [
    {
     "data": {
      "text/html": [
       "<div>\n",
       "<style scoped>\n",
       "    .dataframe tbody tr th:only-of-type {\n",
       "        vertical-align: middle;\n",
       "    }\n",
       "\n",
       "    .dataframe tbody tr th {\n",
       "        vertical-align: top;\n",
       "    }\n",
       "\n",
       "    .dataframe thead th {\n",
       "        text-align: right;\n",
       "    }\n",
       "</style>\n",
       "<table border=\"1\" class=\"dataframe\">\n",
       "  <thead>\n",
       "    <tr style=\"text-align: right;\">\n",
       "      <th></th>\n",
       "      <th>Abstract</th>\n",
       "      <th>Conference</th>\n",
       "      <th>Conference Location</th>\n",
       "      <th>EISSN</th>\n",
       "      <th>Geographic Term</th>\n",
       "      <th>ISSN</th>\n",
       "      <th>Index Term</th>\n",
       "      <th>Issue</th>\n",
       "      <th>Language</th>\n",
       "      <th>Number of Authors</th>\n",
       "      <th>Publication Year</th>\n",
       "      <th>Published On</th>\n",
       "      <th>Publisher</th>\n",
       "      <th>Record ID</th>\n",
       "      <th>Subject Area</th>\n",
       "      <th>Title</th>\n",
       "      <th>Volume</th>\n",
       "    </tr>\n",
       "  </thead>\n",
       "  <tbody>\n",
       "    <tr>\n",
       "      <th>0</th>\n",
       "      <td>Aviation provides productivity in the form of ...</td>\n",
       "      <td>26th International Congress of the Aeronautica...</td>\n",
       "      <td>United States</td>\n",
       "      <td>NaN</td>\n",
       "      <td>[]</td>\n",
       "      <td>NaN</td>\n",
       "      <td>[Air transportation, Aviation fuels, Civil avi...</td>\n",
       "      <td>NaN</td>\n",
       "      <td>English</td>\n",
       "      <td>4</td>\n",
       "      <td>20080000.0</td>\n",
       "      <td>NaN</td>\n",
       "      <td>NaN</td>\n",
       "      <td>1515293</td>\n",
       "      <td>[Aviation, Energy, Environment]</td>\n",
       "      <td>Payload Fuel Energy Efficiency as a Metric for...</td>\n",
       "      <td>NaN</td>\n",
       "    </tr>\n",
       "    <tr>\n",
       "      <th>1</th>\n",
       "      <td>None</td>\n",
       "      <td>International Conference on City Logistics, 5t...</td>\n",
       "      <td>None</td>\n",
       "      <td>NaN</td>\n",
       "      <td>[Queensland]</td>\n",
       "      <td>NaN</td>\n",
       "      <td>[Freight transportation, Highway traffic contr...</td>\n",
       "      <td>None</td>\n",
       "      <td>NaN</td>\n",
       "      <td>2</td>\n",
       "      <td>20080000.0</td>\n",
       "      <td>NaN</td>\n",
       "      <td>NaN</td>\n",
       "      <td>1471124</td>\n",
       "      <td>[Freight Transportation, Operations and Traffi...</td>\n",
       "      <td>Light freight transport in urban areas</td>\n",
       "      <td>None</td>\n",
       "    </tr>\n",
       "    <tr>\n",
       "      <th>2</th>\n",
       "      <td>None</td>\n",
       "      <td>International Conference on City Logistics, 5t...</td>\n",
       "      <td>None</td>\n",
       "      <td>NaN</td>\n",
       "      <td>[]</td>\n",
       "      <td>NaN</td>\n",
       "      <td>[Decision making, Freight transportation, Logi...</td>\n",
       "      <td>None</td>\n",
       "      <td>NaN</td>\n",
       "      <td>4</td>\n",
       "      <td>20080000.0</td>\n",
       "      <td>NaN</td>\n",
       "      <td>NaN</td>\n",
       "      <td>1471123</td>\n",
       "      <td>[Economics, Freight Transportation, Planning a...</td>\n",
       "      <td>A practical approach to solving the \"just in t...</td>\n",
       "      <td>None</td>\n",
       "    </tr>\n",
       "    <tr>\n",
       "      <th>3</th>\n",
       "      <td>None</td>\n",
       "      <td>International Conference on City Logistics, 5t...</td>\n",
       "      <td>None</td>\n",
       "      <td>NaN</td>\n",
       "      <td>[]</td>\n",
       "      <td>NaN</td>\n",
       "      <td>[Evaluation, Freight transportation, Logistics...</td>\n",
       "      <td>None</td>\n",
       "      <td>NaN</td>\n",
       "      <td>1</td>\n",
       "      <td>20080000.0</td>\n",
       "      <td>NaN</td>\n",
       "      <td>NaN</td>\n",
       "      <td>1471122</td>\n",
       "      <td>[Freight Transportation, Planning and Forecast...</td>\n",
       "      <td>A hybrid microsimulation model of freight flows</td>\n",
       "      <td>None</td>\n",
       "    </tr>\n",
       "    <tr>\n",
       "      <th>4</th>\n",
       "      <td>None</td>\n",
       "      <td>International Conference on City Logistics, 5t...</td>\n",
       "      <td>None</td>\n",
       "      <td>NaN</td>\n",
       "      <td>[Melbourne, Victoria]</td>\n",
       "      <td>NaN</td>\n",
       "      <td>[Forecasting, Freight transportation, Mathemat...</td>\n",
       "      <td>None</td>\n",
       "      <td>NaN</td>\n",
       "      <td>3</td>\n",
       "      <td>20080000.0</td>\n",
       "      <td>NaN</td>\n",
       "      <td>NaN</td>\n",
       "      <td>1471121</td>\n",
       "      <td>[Freight Transportation, Planning and Forecast...</td>\n",
       "      <td>Melbourne freight movement model</td>\n",
       "      <td>None</td>\n",
       "    </tr>\n",
       "  </tbody>\n",
       "</table>\n",
       "</div>"
      ],
      "text/plain": [
       "                                            Abstract  \\\n",
       "0  Aviation provides productivity in the form of ...   \n",
       "1                                               None   \n",
       "2                                               None   \n",
       "3                                               None   \n",
       "4                                               None   \n",
       "\n",
       "                                          Conference Conference Location  \\\n",
       "0  26th International Congress of the Aeronautica...       United States   \n",
       "1  International Conference on City Logistics, 5t...                None   \n",
       "2  International Conference on City Logistics, 5t...                None   \n",
       "3  International Conference on City Logistics, 5t...                None   \n",
       "4  International Conference on City Logistics, 5t...                None   \n",
       "\n",
       "  EISSN        Geographic Term ISSN  \\\n",
       "0   NaN                     []  NaN   \n",
       "1   NaN           [Queensland]  NaN   \n",
       "2   NaN                     []  NaN   \n",
       "3   NaN                     []  NaN   \n",
       "4   NaN  [Melbourne, Victoria]  NaN   \n",
       "\n",
       "                                          Index Term Issue Language  \\\n",
       "0  [Air transportation, Aviation fuels, Civil avi...   NaN  English   \n",
       "1  [Freight transportation, Highway traffic contr...  None      NaN   \n",
       "2  [Decision making, Freight transportation, Logi...  None      NaN   \n",
       "3  [Evaluation, Freight transportation, Logistics...  None      NaN   \n",
       "4  [Forecasting, Freight transportation, Mathemat...  None      NaN   \n",
       "\n",
       "   Number of Authors  Publication Year Published On Publisher Record ID  \\\n",
       "0                  4        20080000.0          NaN       NaN   1515293   \n",
       "1                  2        20080000.0          NaN       NaN   1471124   \n",
       "2                  4        20080000.0          NaN       NaN   1471123   \n",
       "3                  1        20080000.0          NaN       NaN   1471122   \n",
       "4                  3        20080000.0          NaN       NaN   1471121   \n",
       "\n",
       "                                        Subject Area  \\\n",
       "0                    [Aviation, Energy, Environment]   \n",
       "1  [Freight Transportation, Operations and Traffi...   \n",
       "2  [Economics, Freight Transportation, Planning a...   \n",
       "3  [Freight Transportation, Planning and Forecast...   \n",
       "4  [Freight Transportation, Planning and Forecast...   \n",
       "\n",
       "                                               Title Volume  \n",
       "0  Payload Fuel Energy Efficiency as a Metric for...    NaN  \n",
       "1             Light freight transport in urban areas   None  \n",
       "2  A practical approach to solving the \"just in t...   None  \n",
       "3    A hybrid microsimulation model of freight flows   None  \n",
       "4                   Melbourne freight movement model   None  "
      ]
     },
     "execution_count": 5,
     "metadata": {},
     "output_type": "execute_result"
    }
   ],
   "source": [
    "table.head()"
   ]
  },
  {
   "cell_type": "code",
   "execution_count": 7,
   "metadata": {},
   "outputs": [
    {
     "data": {
      "text/plain": [
       "0"
      ]
     },
     "execution_count": 7,
     "metadata": {},
     "output_type": "execute_result"
    }
   ],
   "source": [
    "#Check if there is any duplicate document\n",
    "sum(table.duplicated(subset=[\"Record ID\"]))"
   ]
  },
  {
   "cell_type": "markdown",
   "metadata": {},
   "source": [
    "# Categorize documents as journal, conference or both"
   ]
  },
  {
   "cell_type": "code",
   "execution_count": 5,
   "metadata": {},
   "outputs": [],
   "source": [
    "def determine_paper_type(row):\n",
    "    if pd.isnull(row[col_conference]):\n",
    "        if pd.isnull(row[col_issue]) and pd.isnull(row[col_volume]):\n",
    "            return \"\"\n",
    "        else:\n",
    "            return \"Journal\"\n",
    "    else:\n",
    "        if pd.isnull(row[col_issue]) and pd.isnull(row[col_volume]):\n",
    "            return \"Conference\"\n",
    "        else:\n",
    "            return \"Both\""
   ]
  },
  {
   "cell_type": "code",
   "execution_count": 6,
   "metadata": {},
   "outputs": [],
   "source": [
    "table[col_type] = table.apply(determine_paper_type, axis=1)"
   ]
  },
  {
   "cell_type": "code",
   "execution_count": 7,
   "metadata": {
    "scrolled": true
   },
   "outputs": [
    {
     "data": {
      "text/plain": [
       "Abstract               222901\n",
       "Conference              71210\n",
       "Conference Location     60571\n",
       "EISSN                  198410\n",
       "Geographic Term        257225\n",
       "ISSN                   198410\n",
       "Issue                  156082\n",
       "Language               255766\n",
       "Number of Authors      257225\n",
       "Publication Year       257224\n",
       "Published On           198405\n",
       "Publisher              198410\n",
       "Record ID              257225\n",
       "Title                  257225\n",
       "Volume                 152249\n",
       "Type                   257225\n",
       "dtype: int64"
      ]
     },
     "execution_count": 7,
     "metadata": {},
     "output_type": "execute_result"
    }
   ],
   "source": [
    "table.count()"
   ]
  },
  {
   "cell_type": "markdown",
   "metadata": {},
   "source": [
    "# save as pkl and excel"
   ]
  },
  {
   "cell_type": "code",
   "execution_count": 8,
   "metadata": {},
   "outputs": [],
   "source": [
    "table.to_pickle(\"files/1.extracted data from xml.pkl\")"
   ]
  },
  {
   "cell_type": "code",
   "execution_count": 9,
   "metadata": {},
   "outputs": [],
   "source": []
  },
  {
   "cell_type": "code",
   "execution_count": 10,
   "metadata": {},
   "outputs": [],
   "source": [
    "#table[table[col_abstract].str.contains(\"This paper presents a gap-based solution\", na=False)].iloc[0][col_abstract]"
   ]
  },
  {
   "cell_type": "code",
   "execution_count": 2,
   "metadata": {
    "ExecuteTime": {
     "end_time": "2024-01-09T20:41:01.404887100Z",
     "start_time": "2024-01-09T20:40:59.569352200Z"
    }
   },
   "outputs": [],
   "source": [
    "table = pd.read_pickle(\"files/1.extracted data from xml.pkl\")"
   ]
  },
  {
   "cell_type": "code",
   "outputs": [
    {
     "data": {
      "text/plain": "257225"
     },
     "execution_count": 4,
     "metadata": {},
     "output_type": "execute_result"
    }
   ],
   "source": [
    "len(table)"
   ],
   "metadata": {
    "collapsed": false,
    "ExecuteTime": {
     "end_time": "2024-01-09T20:41:27.654823800Z",
     "start_time": "2024-01-09T20:41:27.644527300Z"
    }
   },
   "execution_count": 4
  },
  {
   "cell_type": "code",
   "outputs": [
    {
     "data": {
      "text/plain": "'Abstract, Conference, Conference Location, EISSN, Geographic Term, ISSN, Index Term, Issue, Language, Number of Authors, Publication Year, Published On, Publisher, Record ID, Subject Area, Title, Volume, Type'"
     },
     "execution_count": 6,
     "metadata": {},
     "output_type": "execute_result"
    }
   ],
   "source": [
    "\", \".join(list(table.columns))"
   ],
   "metadata": {
    "collapsed": false,
    "ExecuteTime": {
     "end_time": "2024-01-10T01:05:36.289492100Z",
     "start_time": "2024-01-10T01:05:36.268880700Z"
    }
   },
   "execution_count": 6
  },
  {
   "cell_type": "code",
   "outputs": [],
   "source": [],
   "metadata": {
    "collapsed": false
   }
  }
 ],
 "metadata": {
  "kernelspec": {
   "display_name": "Python 3",
   "language": "python",
   "name": "python3"
  },
  "language_info": {
   "codemirror_mode": {
    "name": "ipython",
    "version": 3
   },
   "file_extension": ".py",
   "mimetype": "text/x-python",
   "name": "python",
   "nbconvert_exporter": "python",
   "pygments_lexer": "ipython3",
   "version": "3.7.0"
  }
 },
 "nbformat": 4,
 "nbformat_minor": 2
}
