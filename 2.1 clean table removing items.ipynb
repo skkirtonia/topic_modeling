{
 "cells": [
  {
   "cell_type": "code",
   "outputs": [],
   "source": [
    "import pandas as pd\n",
    "import en_core_web_sm\n",
    "from langdetect import detect"
   ],
   "metadata": {
    "collapsed": false,
    "ExecuteTime": {
     "end_time": "2024-01-09T21:20:49.872184800Z",
     "start_time": "2024-01-09T21:20:45.838862500Z"
    }
   },
   "execution_count": 1
  },
  {
   "cell_type": "code",
   "execution_count": 1,
   "metadata": {
    "ExecuteTime": {
     "end_time": "2024-01-09T06:20:43.370605900Z",
     "start_time": "2024-01-09T06:20:40.195896200Z"
    }
   },
   "outputs": [],
   "source": [
    "\n",
    "table = pd.read_pickle(\"files/1.extracted data from xml.pkl\")"
   ]
  },
  {
   "cell_type": "code",
   "execution_count": 3,
   "metadata": {
    "ExecuteTime": {
     "end_time": "2024-01-09T06:24:56.403737100Z",
     "start_time": "2024-01-09T06:24:56.395480Z"
    }
   },
   "outputs": [],
   "source": [
    "col_title = \"Title\"\n",
    "col_abstract = \"Abstract\"\n",
    "col_publication_year= \"Publication Year\"\n",
    "col_num_author = \"Number of Authors\"\n",
    "col_geographic_term = \"Geographic Term\"\n",
    "col_publisher= \"Publisher\"\n",
    "col_published_on = \"Published On\"\n",
    "col_conference = \"Conference\"\n",
    "col_conference_location = \"Conference Location\"\n",
    "col_volume = \"Volume\"\n",
    "col_issue = \"Issue\"\n",
    "col_type = \"Type\"\n",
    "col_language = \"Language\"\n",
    "col_abstract_clean = \"Abstract Clean\"\n",
    "col_abstract_lemma = \"Abstract Lemma\"\n",
    "all_papers_folder = 'files/'"
   ]
  },
  {
   "cell_type": "code",
   "execution_count": 4,
   "metadata": {
    "ExecuteTime": {
     "end_time": "2024-01-09T06:25:28.613782900Z",
     "start_time": "2024-01-09T06:25:28.275598700Z"
    }
   },
   "outputs": [
    {
     "name": "stdout",
     "output_type": "stream",
     "text": [
      "Initial 257225\n",
      "After len < 100   250584\n",
      "After null abstract = 216260\n"
     ]
    }
   ],
   "source": [
    "# Remove rows where abstract is less than 100 character\n",
    "print(\"Initial \"+str(len(table)))\n",
    "table.drop(table.index[table[col_abstract].str.len()<100], inplace = True)\n",
    "print(\"After len < 100   \"+str(len(table)))\n",
    "table.drop(table.index[pd.isnull(table[col_abstract])], inplace = True)\n",
    "print(\"After null abstract = \"+str(len(table)))"
   ]
  },
  {
   "cell_type": "code",
   "execution_count": 5,
   "metadata": {
    "ExecuteTime": {
     "end_time": "2024-01-09T06:27:45.951163Z",
     "start_time": "2024-01-09T06:27:45.820656500Z"
    }
   },
   "outputs": [
    {
     "name": "stdout",
     "output_type": "stream",
     "text": [
      "After only English = 201616\n"
     ]
    }
   ],
   "source": [
    "table  = table[(pd.isnull(table[col_language])) | (table[col_language] == \"English\")]\n",
    "print(\"After only English = \"+str(len(table)))"
   ]
  },
  {
   "cell_type": "code",
   "execution_count": 7,
   "metadata": {
    "ExecuteTime": {
     "end_time": "2024-01-09T06:28:53.844210600Z",
     "start_time": "2024-01-09T06:28:53.831445Z"
    }
   },
   "outputs": [],
   "source": [
    "valid_journals = pd.read_pickle(\"files/2.0 identified_sci_ssci_ei_journals.pkl\")\n",
    "invalid_journal_name_list = valid_journals[valid_journals[\"Selected\"]==False][\"Published On\"].tolist()\n"
   ]
  },
  {
   "cell_type": "code",
   "execution_count": 8,
   "metadata": {
    "ExecuteTime": {
     "end_time": "2024-01-09T06:28:54.793812400Z",
     "start_time": "2024-01-09T06:28:54.671022600Z"
    }
   },
   "outputs": [],
   "source": [
    "table.drop(table.index[table[col_published_on].isin(invalid_journal_name_list)], inplace = True)"
   ]
  },
  {
   "cell_type": "code",
   "execution_count": 9,
   "metadata": {
    "ExecuteTime": {
     "end_time": "2024-01-09T06:28:56.684454300Z",
     "start_time": "2024-01-09T06:28:56.676611400Z"
    }
   },
   "outputs": [
    {
     "name": "stdout",
     "output_type": "stream",
     "text": [
      "After deleting invalid journals = 152494\n"
     ]
    }
   ],
   "source": [
    "print(\"After deleting invalid journals = \"+str(len(table)))"
   ]
  },
  {
   "cell_type": "code",
   "execution_count": 10,
   "metadata": {
    "scrolled": false,
    "ExecuteTime": {
     "end_time": "2024-01-09T06:29:09.471663100Z",
     "start_time": "2024-01-09T06:29:09.391668300Z"
    }
   },
   "outputs": [
    {
     "name": "stdout",
     "output_type": "stream",
     "text": [
      "After colum type == = 146972\n"
     ]
    }
   ],
   "source": [
    "# Remove rows where publication type is nothing\n",
    "table.drop(table.index[table[\"Type\"] ==\"\"], inplace = True)\n",
    "print(\"After colum type ==\"\" = \"+str(len(table)))"
   ]
  },
  {
   "cell_type": "code",
   "outputs": [],
   "source": [
    "detected_lang = []\n",
    "for i, r in table.iterrows():\n",
    "    if i%10000 == 0:\n",
    "        print(i)\n",
    "    lang = detect(r[col_abstract_clean])\n",
    "    detected_lang.append(lang)\n",
    "        \n",
    "table['detected_lang'] = detected_lang"
   ],
   "metadata": {
    "collapsed": false
   }
  },
  {
   "cell_type": "code",
   "outputs": [],
   "source": [
    "from collections import Counter\n",
    "print(Counter(detected_lang))"
   ],
   "metadata": {
    "collapsed": false
   }
  },
  {
   "cell_type": "code",
   "outputs": [],
   "source": [
    "table[table.detected_lang!=\"en\"]"
   ],
   "metadata": {
    "collapsed": false
   }
  },
  {
   "cell_type": "code",
   "outputs": [],
   "source": [
    "table[(table.detected_lang!=\"en\") & (table.Language==\"English\")]"
   ],
   "metadata": {
    "collapsed": false
   }
  },
  {
   "cell_type": "code",
   "outputs": [],
   "source": [
    "table = table[table.detected_lang==\"en\"]"
   ],
   "metadata": {
    "collapsed": false
   }
  },
  {
   "cell_type": "code",
   "execution_count": 97,
   "metadata": {},
   "outputs": [],
   "source": [
    "table.to_pickle(\"files/2.1 selected row data.pkl\")\n",
    "table.to_csv(\"files/2.1 selected row data.csv\")"
   ]
  }
 ],
 "metadata": {
  "kernelspec": {
   "display_name": "Python 3",
   "language": "python",
   "name": "python3"
  },
  "language_info": {
   "codemirror_mode": {
    "name": "ipython",
    "version": 3
   },
   "file_extension": ".py",
   "mimetype": "text/x-python",
   "name": "python",
   "nbconvert_exporter": "python",
   "pygments_lexer": "ipython3",
   "version": "3.7.1"
  }
 },
 "nbformat": 4,
 "nbformat_minor": 2
}
