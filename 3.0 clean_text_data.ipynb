{
 "cells": [
  {
   "cell_type": "code",
   "execution_count": 10,
   "metadata": {
    "scrolled": true,
    "ExecuteTime": {
     "end_time": "2024-01-09T18:02:05.747159300Z",
     "start_time": "2024-01-09T18:02:05.727469400Z"
    }
   },
   "outputs": [],
   "source": [
    "import pandas as pd\n",
    "import spacy\n",
    "# spaCy based imports\n",
    "from nltk.corpus import stopwords\n",
    "from spacy.lang.en.stop_words import STOP_WORDS\n",
    "from spacy.lang.en import English\n",
    "import en_core_web_sm\n",
    "import string\n",
    "import re\n",
    "from langdetect import detect"
   ]
  },
  {
   "cell_type": "code",
   "execution_count": 11,
   "metadata": {
    "collapsed": false,
    "ExecuteTime": {
     "end_time": "2024-01-09T18:02:06.010614600Z",
     "start_time": "2024-01-09T18:02:06.002826100Z"
    }
   },
   "outputs": [],
   "source": [
    "# Download and install en_core_web_sm\n",
    "# !python -m spacy download en_core_web_sm"
   ]
  },
  {
   "cell_type": "code",
   "execution_count": 12,
   "metadata": {
    "ExecuteTime": {
     "end_time": "2024-01-09T18:02:09.778261Z",
     "start_time": "2024-01-09T18:02:06.295439100Z"
    }
   },
   "outputs": [],
   "source": [
    "table = pd.read_pickle(\"files/2.1 selected row data.pkl\")\n",
    "table = table.reset_index(drop=True)\n",
    "col_title = \"Title\"\n",
    "col_abstract = \"Abstract\"\n",
    "col_publication_year= \"Publication Year\"\n",
    "col_num_author = \"Number of Authors\"\n",
    "col_geographic_term = \"Geographic Term\"\n",
    "col_publisher= \"Publisher\"\n",
    "col_published_on = \"Published On\"\n",
    "col_conference = \"Conference\"\n",
    "col_conference_location = \"Conference Location\"\n",
    "col_volume = \"Volume\"\n",
    "col_issue = \"Issue\"\n",
    "col_type = \"Type\"\n",
    "col_abstract_clean = \"Abstract Clean\"\n",
    "col_abstract_lemma = \"Abstract Lemma\"\n",
    "col_geo_clean = col_geographic_term+\"clean\"\n",
    "col_geo_sanitized = \"Geographic term Sanitized\"\n",
    "all_papers_folder = 'files/'"
   ]
  },
  {
   "cell_type": "code",
   "execution_count": 13,
   "metadata": {
    "ExecuteTime": {
     "end_time": "2024-01-09T18:02:10.770083100Z",
     "start_time": "2024-01-09T18:02:10.713451600Z"
    }
   },
   "outputs": [
    {
     "data": {
      "text/plain": "                                                 Abstract  \\\n0       Aviation provides productivity in the form of ...   \n1       Steam traction was never fully developed befor...   \n2       The Transport Infrastructure Development Corpo...   \n3       At CORE 2004 the authors presented a first pap...   \n4       Due to the daily congestion of highways, railw...   \n...                                                   ...   \n146967  This study investigates the deadline satisfact...   \n146968  The toll-adjustment mechanism (TAM) is a hybri...   \n146969  The systems approach is increasingly used as a...   \n146970  The purpose of this study was to develop a met...   \n146971  Trust in automation is a key determinant for t...   \n\n                                               Conference Conference Location  \\\n0       26th International Congress of the Aeronautica...       United States   \n1       CORE 2008, Rail; the core of integrated transp...           Australia   \n2       CORE 2008, Rail; the core of integrated transp...           Australia   \n3       CORE 2008, Rail; the core of integrated transp...           Australia   \n4       CORE 2008, Rail; the core of integrated transp...           Australia   \n...                                                   ...                 ...   \n146967                                               None                 NaN   \n146968                                               None                 NaN   \n146969                                               None                 NaN   \n146970                                               None                 NaN   \n146971                                               None                 NaN   \n\n            EISSN      Geographic Term       ISSN Issue Language  \\\n0             NaN                   []        NaN   NaN  English   \n1             NaN                   []        NaN  None      NaN   \n2             NaN          [Australia]        NaN  None      NaN   \n3             NaN          [Australia]        NaN  None      NaN   \n4             NaN          [Australia]        NaN  None      NaN   \n...           ...                  ...        ...   ...      ...   \n146967                              []  0742-597X     1  English   \n146968             [Hong Kong (China)]  0742-597X     1  English   \n146969  1872-9126                   []  0003-6870   NaN  English   \n146970  1872-9126                   []  0003-6870   NaN  English   \n146971  1872-9126                   []  0003-6870   NaN  English   \n\n        Number of Authors  Publication Year  \\\n0                       4        20080000.0   \n1                       1        20080000.0   \n2                       1        20080000.0   \n3                       2        20080000.0   \n4                       1        20080000.0   \n...                   ...               ...   \n146967                  3        20180100.0   \n146968                  4        20180100.0   \n146969                  5        20180100.0   \n146970                  5        20180100.0   \n146971                  3        20180100.0   \n\n                                Published On  \\\n0                                        NaN   \n1                                        NaN   \n2                                        NaN   \n3                                        NaN   \n4                                        NaN   \n...                                      ...   \n146967  Journal of Management in Engineering   \n146968  Journal of Management in Engineering   \n146969                    Applied Ergonomics   \n146970                    Applied Ergonomics   \n146971                    Applied Ergonomics   \n\n                                  Publisher Record ID  \\\n0                                       NaN   1515293   \n1                                       NaN   1301414   \n2                                       NaN   1301413   \n3                                       NaN   1301412   \n4                                       NaN   1301411   \n...                                     ...       ...   \n146967  American Society of Civil Engineers   1486668   \n146968  American Society of Civil Engineers   1484046   \n146969                             Elsevier   1483769   \n146970                             Elsevier   1483768   \n146971                             Elsevier   1483767   \n\n                                                    Title Volume        Type  \n0       Payload Fuel Energy Efficiency as a Metric for...    NaN  Conference  \n1       Feasibility of steam traction for coal transpo...   None  Conference  \n2                Operational readiness - making it happen   None  Conference  \n3       Noise reducing slab track for the Epping to Ch...   None  Conference  \n4       Investigation into some design aspects of ball...   None  Conference  \n...                                                   ...    ...         ...  \n146967  Modeling and Solving the Deadline Satisfaction...     34     Journal  \n146968  Real Options Model of Toll-Adjustment Mechanis...     34     Journal  \n146969  A Sociotechnical Systems Approach to Enhance S...     66     Journal  \n146970  A Sociotechnical Systems Approach to Enhance S...     66     Journal  \n146971  Introduction Matters: Manipulating Trust in Au...     66     Journal  \n\n[146972 rows x 16 columns]",
      "text/html": "<div>\n<style scoped>\n    .dataframe tbody tr th:only-of-type {\n        vertical-align: middle;\n    }\n\n    .dataframe tbody tr th {\n        vertical-align: top;\n    }\n\n    .dataframe thead th {\n        text-align: right;\n    }\n</style>\n<table border=\"1\" class=\"dataframe\">\n  <thead>\n    <tr style=\"text-align: right;\">\n      <th></th>\n      <th>Abstract</th>\n      <th>Conference</th>\n      <th>Conference Location</th>\n      <th>EISSN</th>\n      <th>Geographic Term</th>\n      <th>ISSN</th>\n      <th>Issue</th>\n      <th>Language</th>\n      <th>Number of Authors</th>\n      <th>Publication Year</th>\n      <th>Published On</th>\n      <th>Publisher</th>\n      <th>Record ID</th>\n      <th>Title</th>\n      <th>Volume</th>\n      <th>Type</th>\n    </tr>\n  </thead>\n  <tbody>\n    <tr>\n      <th>0</th>\n      <td>Aviation provides productivity in the form of ...</td>\n      <td>26th International Congress of the Aeronautica...</td>\n      <td>United States</td>\n      <td>NaN</td>\n      <td>[]</td>\n      <td>NaN</td>\n      <td>NaN</td>\n      <td>English</td>\n      <td>4</td>\n      <td>20080000.0</td>\n      <td>NaN</td>\n      <td>NaN</td>\n      <td>1515293</td>\n      <td>Payload Fuel Energy Efficiency as a Metric for...</td>\n      <td>NaN</td>\n      <td>Conference</td>\n    </tr>\n    <tr>\n      <th>1</th>\n      <td>Steam traction was never fully developed befor...</td>\n      <td>CORE 2008, Rail; the core of integrated transp...</td>\n      <td>Australia</td>\n      <td>NaN</td>\n      <td>[]</td>\n      <td>NaN</td>\n      <td>None</td>\n      <td>NaN</td>\n      <td>1</td>\n      <td>20080000.0</td>\n      <td>NaN</td>\n      <td>NaN</td>\n      <td>1301414</td>\n      <td>Feasibility of steam traction for coal transpo...</td>\n      <td>None</td>\n      <td>Conference</td>\n    </tr>\n    <tr>\n      <th>2</th>\n      <td>The Transport Infrastructure Development Corpo...</td>\n      <td>CORE 2008, Rail; the core of integrated transp...</td>\n      <td>Australia</td>\n      <td>NaN</td>\n      <td>[Australia]</td>\n      <td>NaN</td>\n      <td>None</td>\n      <td>NaN</td>\n      <td>1</td>\n      <td>20080000.0</td>\n      <td>NaN</td>\n      <td>NaN</td>\n      <td>1301413</td>\n      <td>Operational readiness - making it happen</td>\n      <td>None</td>\n      <td>Conference</td>\n    </tr>\n    <tr>\n      <th>3</th>\n      <td>At CORE 2004 the authors presented a first pap...</td>\n      <td>CORE 2008, Rail; the core of integrated transp...</td>\n      <td>Australia</td>\n      <td>NaN</td>\n      <td>[Australia]</td>\n      <td>NaN</td>\n      <td>None</td>\n      <td>NaN</td>\n      <td>2</td>\n      <td>20080000.0</td>\n      <td>NaN</td>\n      <td>NaN</td>\n      <td>1301412</td>\n      <td>Noise reducing slab track for the Epping to Ch...</td>\n      <td>None</td>\n      <td>Conference</td>\n    </tr>\n    <tr>\n      <th>4</th>\n      <td>Due to the daily congestion of highways, railw...</td>\n      <td>CORE 2008, Rail; the core of integrated transp...</td>\n      <td>Australia</td>\n      <td>NaN</td>\n      <td>[Australia]</td>\n      <td>NaN</td>\n      <td>None</td>\n      <td>NaN</td>\n      <td>1</td>\n      <td>20080000.0</td>\n      <td>NaN</td>\n      <td>NaN</td>\n      <td>1301411</td>\n      <td>Investigation into some design aspects of ball...</td>\n      <td>None</td>\n      <td>Conference</td>\n    </tr>\n    <tr>\n      <th>...</th>\n      <td>...</td>\n      <td>...</td>\n      <td>...</td>\n      <td>...</td>\n      <td>...</td>\n      <td>...</td>\n      <td>...</td>\n      <td>...</td>\n      <td>...</td>\n      <td>...</td>\n      <td>...</td>\n      <td>...</td>\n      <td>...</td>\n      <td>...</td>\n      <td>...</td>\n      <td>...</td>\n    </tr>\n    <tr>\n      <th>146967</th>\n      <td>This study investigates the deadline satisfact...</td>\n      <td>None</td>\n      <td>NaN</td>\n      <td></td>\n      <td>[]</td>\n      <td>0742-597X</td>\n      <td>1</td>\n      <td>English</td>\n      <td>3</td>\n      <td>20180100.0</td>\n      <td>Journal of Management in Engineering</td>\n      <td>American Society of Civil Engineers</td>\n      <td>1486668</td>\n      <td>Modeling and Solving the Deadline Satisfaction...</td>\n      <td>34</td>\n      <td>Journal</td>\n    </tr>\n    <tr>\n      <th>146968</th>\n      <td>The toll-adjustment mechanism (TAM) is a hybri...</td>\n      <td>None</td>\n      <td>NaN</td>\n      <td></td>\n      <td>[Hong Kong (China)]</td>\n      <td>0742-597X</td>\n      <td>1</td>\n      <td>English</td>\n      <td>4</td>\n      <td>20180100.0</td>\n      <td>Journal of Management in Engineering</td>\n      <td>American Society of Civil Engineers</td>\n      <td>1484046</td>\n      <td>Real Options Model of Toll-Adjustment Mechanis...</td>\n      <td>34</td>\n      <td>Journal</td>\n    </tr>\n    <tr>\n      <th>146969</th>\n      <td>The systems approach is increasingly used as a...</td>\n      <td>None</td>\n      <td>NaN</td>\n      <td>1872-9126</td>\n      <td>[]</td>\n      <td>0003-6870</td>\n      <td>NaN</td>\n      <td>English</td>\n      <td>5</td>\n      <td>20180100.0</td>\n      <td>Applied Ergonomics</td>\n      <td>Elsevier</td>\n      <td>1483769</td>\n      <td>A Sociotechnical Systems Approach to Enhance S...</td>\n      <td>66</td>\n      <td>Journal</td>\n    </tr>\n    <tr>\n      <th>146970</th>\n      <td>The purpose of this study was to develop a met...</td>\n      <td>None</td>\n      <td>NaN</td>\n      <td>1872-9126</td>\n      <td>[]</td>\n      <td>0003-6870</td>\n      <td>NaN</td>\n      <td>English</td>\n      <td>5</td>\n      <td>20180100.0</td>\n      <td>Applied Ergonomics</td>\n      <td>Elsevier</td>\n      <td>1483768</td>\n      <td>A Sociotechnical Systems Approach to Enhance S...</td>\n      <td>66</td>\n      <td>Journal</td>\n    </tr>\n    <tr>\n      <th>146971</th>\n      <td>Trust in automation is a key determinant for t...</td>\n      <td>None</td>\n      <td>NaN</td>\n      <td>1872-9126</td>\n      <td>[]</td>\n      <td>0003-6870</td>\n      <td>NaN</td>\n      <td>English</td>\n      <td>3</td>\n      <td>20180100.0</td>\n      <td>Applied Ergonomics</td>\n      <td>Elsevier</td>\n      <td>1483767</td>\n      <td>Introduction Matters: Manipulating Trust in Au...</td>\n      <td>66</td>\n      <td>Journal</td>\n    </tr>\n  </tbody>\n</table>\n<p>146972 rows × 16 columns</p>\n</div>"
     },
     "execution_count": 13,
     "metadata": {},
     "output_type": "execute_result"
    }
   ],
   "source": [
    "table"
   ]
  },
  {
   "cell_type": "code",
   "execution_count": 14,
   "metadata": {
    "ExecuteTime": {
     "end_time": "2024-01-09T18:02:21.735257600Z",
     "start_time": "2024-01-09T18:02:20.929363700Z"
    }
   },
   "outputs": [],
   "source": [
    "# Creating a spaCy object\n",
    "nlp = en_core_web_sm.load()"
   ]
  },
  {
   "cell_type": "code",
   "execution_count": 15,
   "metadata": {
    "ExecuteTime": {
     "end_time": "2024-01-09T18:02:21.736395900Z",
     "start_time": "2024-01-09T18:02:21.720087800Z"
    }
   },
   "outputs": [],
   "source": [
    "# list of allowed parts of speech\n",
    "allowed_postags=['NOUN', 'ADJ', 'VERB', 'ADV', 'PROPN']"
   ]
  },
  {
   "cell_type": "code",
   "execution_count": 24,
   "metadata": {
    "ExecuteTime": {
     "end_time": "2024-01-09T18:05:52.240025300Z",
     "start_time": "2024-01-09T18:05:52.219011800Z"
    }
   },
   "outputs": [],
   "source": [
    "#Lemmatization (or less commonly lemmatization) in linguistics is the process of grouping together the inflected forms of a word so they can be analysed as a single item, identified by the word's lemma, or dictionary form.\n",
    "# For example, the word \"walk\" is the base form for the word \"walking\", and hence this is matched in both stemming and lemmatization\n",
    "\n",
    "def lemmatize_with_spacy(sentence):\n",
    "    doc = nlp(sentence)\n",
    "    mytokens = [token.lemma_ for token in doc if token.pos_ in allowed_postags and token.lemma_ != \"-PRON-\"]\n",
    "    mytokens = \" \".join([i for i in mytokens])\n",
    "    return mytokens"
   ]
  },
  {
   "cell_type": "code",
   "execution_count": 25,
   "metadata": {
    "ExecuteTime": {
     "end_time": "2024-01-09T18:05:52.640056100Z",
     "start_time": "2024-01-09T18:05:52.625622700Z"
    }
   },
   "outputs": [],
   "source": [
    "# converting special characters to standard\n",
    "def clean_abstract(row):\n",
    "    text = row[col_abstract]\n",
    "    text = text.replace(\"\\x91\", \"'\")\n",
    "    text = text.replace(\"\\x92\", \"'\")\n",
    "    text = text.replace(\"\\x93\", '\"')\n",
    "    text = text.replace(\"\\x94\", '\"')\n",
    "    text = text.replace(\"\\x96\", '-')\n",
    "    text = text.replace(\"\\x97\", '--')\n",
    "    text = text.replace(\"%\", ' ')\n",
    "    text = re.sub(r\"[^a-zA-Z -'\"\"]\",\" \",text)\n",
    "    \n",
    "    for i in range(9):\n",
    "        text= text.replace(\"  \", \" \")\n",
    "    \n",
    "    return text"
   ]
  },
  {
   "cell_type": "code",
   "execution_count": 18,
   "metadata": {
    "ExecuteTime": {
     "end_time": "2024-01-09T18:02:33.622508800Z",
     "start_time": "2024-01-09T18:02:25.008934700Z"
    }
   },
   "outputs": [],
   "source": [
    "table[col_abstract_clean] = table.apply(clean_abstract, axis=1)"
   ]
  },
  {
   "cell_type": "code",
   "outputs": [
    {
     "data": {
      "text/plain": "                                            Abstract  \\\n0  Aviation provides productivity in the form of ...   \n1  Steam traction was never fully developed befor...   \n2  The Transport Infrastructure Development Corpo...   \n3  At CORE 2004 the authors presented a first pap...   \n4  Due to the daily congestion of highways, railw...   \n\n                                          Conference Conference Location  \\\n0  26th International Congress of the Aeronautica...       United States   \n1  CORE 2008, Rail; the core of integrated transp...           Australia   \n2  CORE 2008, Rail; the core of integrated transp...           Australia   \n3  CORE 2008, Rail; the core of integrated transp...           Australia   \n4  CORE 2008, Rail; the core of integrated transp...           Australia   \n\n  EISSN Geographic Term ISSN Issue Language  Number of Authors  \\\n0   NaN              []  NaN   NaN  English                  4   \n1   NaN              []  NaN  None      NaN                  1   \n2   NaN     [Australia]  NaN  None      NaN                  1   \n3   NaN     [Australia]  NaN  None      NaN                  2   \n4   NaN     [Australia]  NaN  None      NaN                  1   \n\n   Publication Year Published On Publisher Record ID  \\\n0        20080000.0          NaN       NaN   1515293   \n1        20080000.0          NaN       NaN   1301414   \n2        20080000.0          NaN       NaN   1301413   \n3        20080000.0          NaN       NaN   1301412   \n4        20080000.0          NaN       NaN   1301411   \n\n                                               Title Volume        Type  \\\n0  Payload Fuel Energy Efficiency as a Metric for...    NaN  Conference   \n1  Feasibility of steam traction for coal transpo...   None  Conference   \n2           Operational readiness - making it happen   None  Conference   \n3  Noise reducing slab track for the Epping to Ch...   None  Conference   \n4  Investigation into some design aspects of ball...   None  Conference   \n\n                                      Abstract Clean  \n0  Aviation provides productivity in the form of ...  \n1  Steam traction was never fully developed befor...  \n2  The Transport Infrastructure Development Corpo...  \n3  At CORE the authors presented a first paper on...  \n4  Due to the daily congestion of highways railwa...  ",
      "text/html": "<div>\n<style scoped>\n    .dataframe tbody tr th:only-of-type {\n        vertical-align: middle;\n    }\n\n    .dataframe tbody tr th {\n        vertical-align: top;\n    }\n\n    .dataframe thead th {\n        text-align: right;\n    }\n</style>\n<table border=\"1\" class=\"dataframe\">\n  <thead>\n    <tr style=\"text-align: right;\">\n      <th></th>\n      <th>Abstract</th>\n      <th>Conference</th>\n      <th>Conference Location</th>\n      <th>EISSN</th>\n      <th>Geographic Term</th>\n      <th>ISSN</th>\n      <th>Issue</th>\n      <th>Language</th>\n      <th>Number of Authors</th>\n      <th>Publication Year</th>\n      <th>Published On</th>\n      <th>Publisher</th>\n      <th>Record ID</th>\n      <th>Title</th>\n      <th>Volume</th>\n      <th>Type</th>\n      <th>Abstract Clean</th>\n    </tr>\n  </thead>\n  <tbody>\n    <tr>\n      <th>0</th>\n      <td>Aviation provides productivity in the form of ...</td>\n      <td>26th International Congress of the Aeronautica...</td>\n      <td>United States</td>\n      <td>NaN</td>\n      <td>[]</td>\n      <td>NaN</td>\n      <td>NaN</td>\n      <td>English</td>\n      <td>4</td>\n      <td>20080000.0</td>\n      <td>NaN</td>\n      <td>NaN</td>\n      <td>1515293</td>\n      <td>Payload Fuel Energy Efficiency as a Metric for...</td>\n      <td>NaN</td>\n      <td>Conference</td>\n      <td>Aviation provides productivity in the form of ...</td>\n    </tr>\n    <tr>\n      <th>1</th>\n      <td>Steam traction was never fully developed befor...</td>\n      <td>CORE 2008, Rail; the core of integrated transp...</td>\n      <td>Australia</td>\n      <td>NaN</td>\n      <td>[]</td>\n      <td>NaN</td>\n      <td>None</td>\n      <td>NaN</td>\n      <td>1</td>\n      <td>20080000.0</td>\n      <td>NaN</td>\n      <td>NaN</td>\n      <td>1301414</td>\n      <td>Feasibility of steam traction for coal transpo...</td>\n      <td>None</td>\n      <td>Conference</td>\n      <td>Steam traction was never fully developed befor...</td>\n    </tr>\n    <tr>\n      <th>2</th>\n      <td>The Transport Infrastructure Development Corpo...</td>\n      <td>CORE 2008, Rail; the core of integrated transp...</td>\n      <td>Australia</td>\n      <td>NaN</td>\n      <td>[Australia]</td>\n      <td>NaN</td>\n      <td>None</td>\n      <td>NaN</td>\n      <td>1</td>\n      <td>20080000.0</td>\n      <td>NaN</td>\n      <td>NaN</td>\n      <td>1301413</td>\n      <td>Operational readiness - making it happen</td>\n      <td>None</td>\n      <td>Conference</td>\n      <td>The Transport Infrastructure Development Corpo...</td>\n    </tr>\n    <tr>\n      <th>3</th>\n      <td>At CORE 2004 the authors presented a first pap...</td>\n      <td>CORE 2008, Rail; the core of integrated transp...</td>\n      <td>Australia</td>\n      <td>NaN</td>\n      <td>[Australia]</td>\n      <td>NaN</td>\n      <td>None</td>\n      <td>NaN</td>\n      <td>2</td>\n      <td>20080000.0</td>\n      <td>NaN</td>\n      <td>NaN</td>\n      <td>1301412</td>\n      <td>Noise reducing slab track for the Epping to Ch...</td>\n      <td>None</td>\n      <td>Conference</td>\n      <td>At CORE the authors presented a first paper on...</td>\n    </tr>\n    <tr>\n      <th>4</th>\n      <td>Due to the daily congestion of highways, railw...</td>\n      <td>CORE 2008, Rail; the core of integrated transp...</td>\n      <td>Australia</td>\n      <td>NaN</td>\n      <td>[Australia]</td>\n      <td>NaN</td>\n      <td>None</td>\n      <td>NaN</td>\n      <td>1</td>\n      <td>20080000.0</td>\n      <td>NaN</td>\n      <td>NaN</td>\n      <td>1301411</td>\n      <td>Investigation into some design aspects of ball...</td>\n      <td>None</td>\n      <td>Conference</td>\n      <td>Due to the daily congestion of highways railwa...</td>\n    </tr>\n  </tbody>\n</table>\n</div>"
     },
     "execution_count": 19,
     "metadata": {},
     "output_type": "execute_result"
    }
   ],
   "source": [
    "table.head()"
   ],
   "metadata": {
    "collapsed": false,
    "ExecuteTime": {
     "end_time": "2024-01-09T18:04:17.636175400Z",
     "start_time": "2024-01-09T18:04:17.607663700Z"
    }
   },
   "execution_count": 19
  },
  {
   "cell_type": "code",
   "execution_count": 26,
   "metadata": {
    "ExecuteTime": {
     "end_time": "2024-01-09T19:26:02.878394500Z",
     "start_time": "2024-01-09T18:05:56.510417500Z"
    }
   },
   "outputs": [
    {
     "name": "stdout",
     "output_type": "stream",
     "text": [
      "0\n",
      "10000\n",
      "20000\n",
      "30000\n",
      "40000\n",
      "50000\n",
      "60000\n",
      "70000\n",
      "80000\n",
      "90000\n",
      "100000\n",
      "110000\n",
      "120000\n",
      "130000\n",
      "140000\n"
     ]
    }
   ],
   "source": [
    "lemma_list = []\n",
    "for i, r in table.iterrows():\n",
    "    if i%10000 ==0: \n",
    "        print(i)\n",
    "    lemma_list.append(lemmatize_with_spacy(r[col_abstract_clean]))\n",
    "table[col_abstract_lemma] = lemma_list"
   ]
  },
  {
   "cell_type": "code",
   "execution_count": 27,
   "metadata": {
    "ExecuteTime": {
     "end_time": "2024-01-09T19:26:06.610341800Z",
     "start_time": "2024-01-09T19:26:06.585403700Z"
    }
   },
   "outputs": [
    {
     "name": "stdout",
     "output_type": "stream",
     "text": [
      "Aviation provides productivity in the form of transporting passengers and cargo long distances in a shorter period of time than is available via land or sea.  Given the recent rise in fuel prices and environmental concerns, a consistent metric is needed for the assessment of commercial aviation fuel efficiency, or equivalently the productivity delivered per unit of fuel consumption or environmental cost. This work presents an assessment of payload fuel energy efficiency (PFEE) as a means to quantify how efficiently the energy consumed by aviation is being used on a fleet-wide basis.\n",
      "\n",
      "Aviation provides productivity in the form of transporting passengers and cargo long distances in a shorter period of time than is available via land or sea Given the recent rise in fuel prices and environmental concerns a consistent metric is needed for the assessment of commercial aviation fuel efficiency or equivalently the productivity delivered per unit of fuel consumption or environmental cost This work presents an assessment of payload fuel energy efficiency PFEE as a means to quantify how efficiently the energy consumed by aviation is being used on a fleet wide basis \n",
      "\n",
      "aviation provide productivity form transport passenger cargo long distance short period time available land sea give recent rise fuel price environmental concern consistent metric need assessment commercial aviation fuel efficiency equivalently productivity deliver unit fuel consumption environmental cost work present assessment payload fuel energy efficiency PFEE means quantify efficiently energy consume aviation use fleet wide basis\n"
     ]
    }
   ],
   "source": [
    "i = 0\n",
    "print(table.iloc[i][col_abstract])\n",
    "print()\n",
    "print(table.iloc[i][col_abstract_clean])\n",
    "print()\n",
    "print(table.iloc[i][col_abstract_lemma])\n"
   ]
  },
  {
   "cell_type": "code",
   "execution_count": 28,
   "metadata": {
    "collapsed": false,
    "ExecuteTime": {
     "end_time": "2024-01-09T19:26:11.358433700Z",
     "start_time": "2024-01-09T19:26:11.307001800Z"
    }
   },
   "outputs": [
    {
     "data": {
      "text/plain": "                                                 Abstract  \\\n137824  A series of studies conducted in the 1970s we...   \n3085    The increasing number of accidents involving u...   \n63015   Since Latvia joined the European Union, the na...   \n85024   Significant pro-competitive changes were made ...   \n31895   The Durham Fatal Landslide Database (DFLD) sho...   \n50881   This article explores the various ways that tr...   \n13334   The main objective of this paper is to present...   \n\n                                               Conference Conference Location  \\\n137824  Transportation Research Board 97th Annual Meeting       United States   \n3085                                                 None                 NaN   \n63015                                                None                 NaN   \n85024                                                None                 NaN   \n31895                                                None                 NaN   \n50881                                2012 Rail Conference       United States   \n13334   Proceedings of the Symposium on Pavement Mecha...       United States   \n\n            EISSN       Geographic Term       ISSN Issue Language  \\\n137824        NaN  [Davis (California)]        NaN  None  English   \n3085                            [Italy]  1358-8265     4  English   \n63015   1822-4288              [Latvia]  1822-427X     4  English   \n85024   1464-5254                    []  0308-8839     1  English   \n31895                            [Asia]                4  English   \n50881         NaN                    []        NaN  None  English   \n13334         NaN                    []        NaN  None  English   \n\n        Number of Authors  Publication Year  \\\n137824                  1        20180000.0   \n3085                    5        20080000.0   \n63015                   4        20130000.0   \n85024                   1        20140100.0   \n31895                   1        20101100.0   \n50881                   2        20120000.0   \n13334                   1        20090000.0   \n\n                                             Published On  \\\n137824                                                NaN   \n3085             International Journal of Crashworthiness   \n63015       Baltic Journal of Road and Bridge Engineering   \n85024                        Maritime Policy & Management   \n31895   QUARTERLY JOURNAL OF ENGINEERING GEOLOGY & HYD...   \n50881                                                 NaN   \n13334                                                 NaN   \n\n                                     Publisher Record ID  \\\n137824                                     NaN   1494756   \n3085                          Taylor & Francis    868576   \n63015   Vilnius Gediminas Technical University   1307108   \n85024                         Taylor & Francis   1299344   \n31895                  GEOLOGICAL SOCIETY (UK)   1100227   \n50881                                      NaN   1224977   \n13334                                      NaN    902020   \n\n                                                    Title Volume        Type  \\\n137824    Bikeway Engineering in the 70s, a Turning Point   None  Conference   \n3085           C IV class tram crashworthiness assessment     13     Journal   \n63015   Assessment of the Effectiveness of the Road Tr...      8     Journal   \n85024   Ocean shipping deregulation restructures the l...     41     Journal   \n31895   The impact of climate change and population gr...     43     Journal   \n50881   Transit Systems Use Recycling to Reduce Mainte...   None  Conference   \n13334   State of the Art: Anisotropic Characterization...   None  Conference   \n\n                                           Abstract Clean  \\\n137824  A series of studies conducted in the 's were v...   \n3085    The increasing number of accidents involving u...   \n63015   Since Latvia joined the European Union the nat...   \n85024   Significant pro competitive changes were made ...   \n31895   The Durham Fatal Landslide Database DFLD shows...   \n50881   This article explores the various ways that tr...   \n13334   The main objective of this paper is to present...   \n\n                                           Abstract Lemma  \n137824  series study conduct very influential set futu...  \n3085    increase number accident involve urban light r...  \n63015   Latvia join European Union nature traffic chan...  \n85024   significant pro competitive change make Shippi...  \n31895   Durham Fatal Landslide Database DFLD show grea...  \n50881   article explore various way transit system use...  \n13334   main objective paper present state art anisotr...  ",
      "text/html": "<div>\n<style scoped>\n    .dataframe tbody tr th:only-of-type {\n        vertical-align: middle;\n    }\n\n    .dataframe tbody tr th {\n        vertical-align: top;\n    }\n\n    .dataframe thead th {\n        text-align: right;\n    }\n</style>\n<table border=\"1\" class=\"dataframe\">\n  <thead>\n    <tr style=\"text-align: right;\">\n      <th></th>\n      <th>Abstract</th>\n      <th>Conference</th>\n      <th>Conference Location</th>\n      <th>EISSN</th>\n      <th>Geographic Term</th>\n      <th>ISSN</th>\n      <th>Issue</th>\n      <th>Language</th>\n      <th>Number of Authors</th>\n      <th>Publication Year</th>\n      <th>Published On</th>\n      <th>Publisher</th>\n      <th>Record ID</th>\n      <th>Title</th>\n      <th>Volume</th>\n      <th>Type</th>\n      <th>Abstract Clean</th>\n      <th>Abstract Lemma</th>\n    </tr>\n  </thead>\n  <tbody>\n    <tr>\n      <th>137824</th>\n      <td>A series of studies conducted in the 1970s we...</td>\n      <td>Transportation Research Board 97th Annual Meeting</td>\n      <td>United States</td>\n      <td>NaN</td>\n      <td>[Davis (California)]</td>\n      <td>NaN</td>\n      <td>None</td>\n      <td>English</td>\n      <td>1</td>\n      <td>20180000.0</td>\n      <td>NaN</td>\n      <td>NaN</td>\n      <td>1494756</td>\n      <td>Bikeway Engineering in the 70s, a Turning Point</td>\n      <td>None</td>\n      <td>Conference</td>\n      <td>A series of studies conducted in the 's were v...</td>\n      <td>series study conduct very influential set futu...</td>\n    </tr>\n    <tr>\n      <th>3085</th>\n      <td>The increasing number of accidents involving u...</td>\n      <td>None</td>\n      <td>NaN</td>\n      <td></td>\n      <td>[Italy]</td>\n      <td>1358-8265</td>\n      <td>4</td>\n      <td>English</td>\n      <td>5</td>\n      <td>20080000.0</td>\n      <td>International Journal of Crashworthiness</td>\n      <td>Taylor &amp; Francis</td>\n      <td>868576</td>\n      <td>C IV class tram crashworthiness assessment</td>\n      <td>13</td>\n      <td>Journal</td>\n      <td>The increasing number of accidents involving u...</td>\n      <td>increase number accident involve urban light r...</td>\n    </tr>\n    <tr>\n      <th>63015</th>\n      <td>Since Latvia joined the European Union, the na...</td>\n      <td>None</td>\n      <td>NaN</td>\n      <td>1822-4288</td>\n      <td>[Latvia]</td>\n      <td>1822-427X</td>\n      <td>4</td>\n      <td>English</td>\n      <td>4</td>\n      <td>20130000.0</td>\n      <td>Baltic Journal of Road and Bridge Engineering</td>\n      <td>Vilnius Gediminas Technical University</td>\n      <td>1307108</td>\n      <td>Assessment of the Effectiveness of the Road Tr...</td>\n      <td>8</td>\n      <td>Journal</td>\n      <td>Since Latvia joined the European Union the nat...</td>\n      <td>Latvia join European Union nature traffic chan...</td>\n    </tr>\n    <tr>\n      <th>85024</th>\n      <td>Significant pro-competitive changes were made ...</td>\n      <td>None</td>\n      <td>NaN</td>\n      <td>1464-5254</td>\n      <td>[]</td>\n      <td>0308-8839</td>\n      <td>1</td>\n      <td>English</td>\n      <td>1</td>\n      <td>20140100.0</td>\n      <td>Maritime Policy &amp; Management</td>\n      <td>Taylor &amp; Francis</td>\n      <td>1299344</td>\n      <td>Ocean shipping deregulation restructures the l...</td>\n      <td>41</td>\n      <td>Journal</td>\n      <td>Significant pro competitive changes were made ...</td>\n      <td>significant pro competitive change make Shippi...</td>\n    </tr>\n    <tr>\n      <th>31895</th>\n      <td>The Durham Fatal Landslide Database (DFLD) sho...</td>\n      <td>None</td>\n      <td>NaN</td>\n      <td></td>\n      <td>[Asia]</td>\n      <td></td>\n      <td>4</td>\n      <td>English</td>\n      <td>1</td>\n      <td>20101100.0</td>\n      <td>QUARTERLY JOURNAL OF ENGINEERING GEOLOGY &amp; HYD...</td>\n      <td>GEOLOGICAL SOCIETY (UK)</td>\n      <td>1100227</td>\n      <td>The impact of climate change and population gr...</td>\n      <td>43</td>\n      <td>Journal</td>\n      <td>The Durham Fatal Landslide Database DFLD shows...</td>\n      <td>Durham Fatal Landslide Database DFLD show grea...</td>\n    </tr>\n    <tr>\n      <th>50881</th>\n      <td>This article explores the various ways that tr...</td>\n      <td>2012 Rail Conference</td>\n      <td>United States</td>\n      <td>NaN</td>\n      <td>[]</td>\n      <td>NaN</td>\n      <td>None</td>\n      <td>English</td>\n      <td>2</td>\n      <td>20120000.0</td>\n      <td>NaN</td>\n      <td>NaN</td>\n      <td>1224977</td>\n      <td>Transit Systems Use Recycling to Reduce Mainte...</td>\n      <td>None</td>\n      <td>Conference</td>\n      <td>This article explores the various ways that tr...</td>\n      <td>article explore various way transit system use...</td>\n    </tr>\n    <tr>\n      <th>13334</th>\n      <td>The main objective of this paper is to present...</td>\n      <td>Proceedings of the Symposium on Pavement Mecha...</td>\n      <td>United States</td>\n      <td>NaN</td>\n      <td>[]</td>\n      <td>NaN</td>\n      <td>None</td>\n      <td>English</td>\n      <td>1</td>\n      <td>20090000.0</td>\n      <td>NaN</td>\n      <td>NaN</td>\n      <td>902020</td>\n      <td>State of the Art: Anisotropic Characterization...</td>\n      <td>None</td>\n      <td>Conference</td>\n      <td>The main objective of this paper is to present...</td>\n      <td>main objective paper present state art anisotr...</td>\n    </tr>\n  </tbody>\n</table>\n</div>"
     },
     "execution_count": 28,
     "metadata": {},
     "output_type": "execute_result"
    }
   ],
   "source": [
    "table.sample(7)"
   ]
  },
  {
   "cell_type": "markdown",
   "source": [
    "# Clean Geographic information"
   ],
   "metadata": {
    "collapsed": false
   }
  },
  {
   "cell_type": "code",
   "outputs": [],
   "source": [
    "import pycountry"
   ],
   "metadata": {
    "collapsed": false,
    "ExecuteTime": {
     "end_time": "2024-01-09T19:47:10.923037800Z",
     "start_time": "2024-01-09T19:47:10.899417800Z"
    }
   },
   "execution_count": 33
  },
  {
   "cell_type": "code",
   "outputs": [
    {
     "name": "stdout",
     "output_type": "stream",
     "text": [
      "51\n"
     ]
    },
    {
     "data": {
      "text/plain": "260"
     },
     "execution_count": 34,
     "metadata": {},
     "output_type": "execute_result"
    }
   ],
   "source": [
    "states = set(['Alabama','Alaska','Arizona','Arkansas','California','Colorado','Connecticut','Delaware', 'Florida','Georgia','Hawaii','Idaho','Illinois','Indiana','Iowa','Kansas','Kentucky','Louisiana','Maine','Maryland','Massachusetts','Michigan','Minnesota','Mississippi','Missouri','Montana','Nebraska','Nevada','New Hampshire','New Jersey','New Mexico','New York','North Carolina','North Dakota','Ohio','Oklahoma','Oregon','Pennsylvania','Rhode Island','South Carolina','South Dakota','Tennessee','Texas','Utah','Vermont','Virginia','Washington','West Virginia','Wisconsin','Wyoming', \"District of Columbia\"])\n",
    "print(len(states))\n",
    "countries = set([country.name for country in pycountry.countries])\n",
    "countries = countries.union(set(['Bolivia', 'Korea', 'Palestine', 'Russia', 'Taiwan', 'Tanzania', 'Vietnam', 'Iran', \"Scotland\", \"England\", \"Czech Republic\"]))\n",
    "len(countries)"
   ],
   "metadata": {
    "collapsed": false,
    "ExecuteTime": {
     "end_time": "2024-01-09T19:47:11.746833900Z",
     "start_time": "2024-01-09T19:47:11.723249700Z"
    }
   },
   "execution_count": 34
  },
  {
   "cell_type": "code",
   "outputs": [],
   "source": [
    "def detect_geographic_region(row):\n",
    "    if len(row[col_geographic_term]) == 0 and not pd.isnull(row[col_abstract]):\n",
    "        doc = nlp(row[col_abstract_clean])\n",
    "        locations = set()\n",
    "        for x in doc.ents:\n",
    "            if x.label_ == \"GPE\":\n",
    "                locations.add(x.text)\n",
    "        return list(locations)\n",
    "    else:\n",
    "        return row[col_geographic_term]"
   ],
   "metadata": {
    "collapsed": false
   }
  },
  {
   "cell_type": "code",
   "outputs": [],
   "source": [
    "table[col_geo_clean] = table.apply(detect_geographic_region, axis=1)"
   ],
   "metadata": {
    "collapsed": false
   }
  },
  {
   "cell_type": "code",
   "outputs": [],
   "source": [
    "def sanitize_country_name(row):\n",
    "    saved_list = row[col_geo_clean]\n",
    "    new_list = []\n",
    "    for c in countries:\n",
    "        new_list.extend([c for saved_country in saved_list if c.lower() in saved_country.lower()])\n",
    "    \n",
    "    for s in states:\n",
    "        new_list.extend([\"United States\" for saved_country in saved_list if s.lower() in saved_country.lower()])\n",
    "    \n",
    "    if \"England\" in new_list:\n",
    "        new_list.remove(\"England\")\n",
    "        new_list.append(\"United Kingdom\")\n",
    "    \n",
    "    c_set = set(new_list)\n",
    "    \n",
    "    if \"Oman\" in c_set and \"Romania\" in c_set:\n",
    "        c_set.remove(\"Oman\")\n",
    "    \n",
    "    if \"United States\" in c_set and \"Jersey\" in c_set:\n",
    "        c_set.remove(\"Jersey\")\n",
    "    return list(c_set)"
   ],
   "metadata": {
    "collapsed": false
   }
  },
  {
   "cell_type": "code",
   "outputs": [],
   "source": [
    "def sanitize_state_name(row):\n",
    "    saved_list = row[col_geo_clean]\n",
    "    new_list = []\n",
    "    if \"United States\" in row[\"Sanitize\"]:\n",
    "        for s in states:\n",
    "            new_list.extend([s for saved_country in saved_list if s.lower() in saved_country.lower()])\n",
    "    \n",
    "    c_set = set(new_list)\n",
    "    \n",
    "    if \"Washington\" in c_set and \"District of Columbia\" in c_set:\n",
    "        c_set.remove(\"Washington\")\n",
    "    \n",
    "    return list(c_set)"
   ],
   "metadata": {
    "collapsed": false
   }
  },
  {
   "cell_type": "code",
   "outputs": [],
   "source": [
    "table[\"Sanitize\"] = table.apply(sanitize_country_name, axis=1)\n",
    "table[\"Sanitize State\"] = table.apply(sanitize_state_name, axis=1)"
   ],
   "metadata": {
    "collapsed": false
   }
  },
  {
   "cell_type": "code",
   "outputs": [],
   "source": [
    "table.to_pickle(\"files/3.0 data_clean_text_region.parquet\")\n",
    "table.to_csv(\"files/3.0 data_clean_text_region.csv\")"
   ],
   "metadata": {
    "collapsed": false
   }
  }
 ],
 "metadata": {
  "kernelspec": {
   "display_name": "Python 3 (ipykernel)",
   "language": "python",
   "name": "python3"
  },
  "language_info": {
   "codemirror_mode": {
    "name": "ipython",
    "version": 3
   },
   "file_extension": ".py",
   "mimetype": "text/x-python",
   "name": "python",
   "nbconvert_exporter": "python",
   "pygments_lexer": "ipython3",
   "version": "3.12.1"
  }
 },
 "nbformat": 4,
 "nbformat_minor": 4
}
